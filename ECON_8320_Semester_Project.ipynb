{
  "nbformat": 4,
  "nbformat_minor": 0,
  "metadata": {
    "colab": {
      "provenance": []
    },
    "kernelspec": {
      "name": "python3",
      "display_name": "Python 3"
    },
    "language_info": {
      "name": "python"
    }
  },
  "cells": [
    {
      "cell_type": "code",
      "execution_count": 63,
      "metadata": {
        "id": "IgJFP5u0hh5O"
      },
      "outputs": [],
      "source": [
        "import requests\n",
        "import json\n",
        "import pandas as pd\n",
        "\n",
        "#API call for json data of requested reports (in order: Civilian Labor Force, Civilian Employment, Civilian Employment, Unemployment Rate, Total Nonfarm Employment, Total Private Average Weekly Hours of All Employees, Total Private Average Weekly Hours of Prod. and Nonsup. Employees, Total Private Average Hourly Earnings of All Employees, Total Private Average Hourly Earnings of Prod. and Nonsup. Employees and Employment Cost Index (ECI) Civilian (Unadjusted))\n",
        "headers = {'Content-type': 'application/json'}\n",
        "data = json.dumps({\"seriesid\": ['LNS11000000', 'LNS12000000', 'LNS13000000', 'LNS14000000', 'CES0000000001', 'CES0500000007', 'CES0500000003', 'CES0500000008'],\"startyear\":\"2023\", \"endyear\":\"2024\"})\n",
        "p = requests.post('https://api.bls.gov/publicAPI/v2/timeseries/data/', data=data, headers=headers)\n",
        "json_data = json.loads(p.text)\n",
        "json_data = json_data['Results']['series']\n",
        "\n",
        "#turn the returned json data dictionary into a pandas dataframe\n",
        "json_data = pd.DataFrame(json_data)\n",
        "\n",
        "#parse out the nested dictionary 'data' into individual data entries for each change in seriesID\n",
        "separated_data = []\n",
        "for index, row in json_data.iterrows():\n",
        "    series_id = row['seriesID']\n",
        "    data_list = row['data']\n",
        "\n",
        "    if isinstance(data_list, list) and len(data_list) > 0 and isinstance(data_list[0], dict) :\n",
        "        df = pd.DataFrame(data_list)\n",
        "        df['seriesID'] = series_id\n",
        "        separated_data.append(df)\n",
        "    else:\n",
        "        print(f\"Warning: Unexpected 'data' format for seriesID: {series_id}\")\n",
        "\n",
        "final_df = pd.concat(separated_data, ignore_index=True)\n",
        "\n",
        "#move column seriesID to the front of the dataframe\n",
        "cols = list(final_df.columns)\n",
        "cols.insert(0, cols.pop(cols.index('seriesID')))\n",
        "final_df = final_df.loc[:, cols]\n",
        "\n",
        "#removing uneeded columns that wont be used in the dashboard\n",
        "final_df = final_df.drop(columns=['period', 'footnotes'])\n",
        "final_df = final_df.rename(columns={'periodName': 'Month'})\n",
        "\n",
        "#map series name to the corresponding serries number and create a new column for it\n",
        "series_mapping = {\n",
        "    \"LNS11000000\": \"Civilian Labor Force\",\n",
        "    \"LNS12000000\": \"Civilian Employment\",\n",
        "    \"LNS13000000\": \"Civilian Unemployment\",\n",
        "    \"LNS14000000\": \"Unemployment Rate\",\n",
        "    \"CES0000000001\": \"Total Nonfarm Employment\",\n",
        "    \"CES0500000002\": \"Total Private Average Weekly Hours of All Employees\",\n",
        "    \"CES0500000007\": \"Total Private Average Weekly Hours of Prod. and Nonsup. Employees\",\n",
        "    \"CES0500000003\": \"Total Private Average Hourly Earnings of All Employees\",\n",
        "    \"CES0500000008\": \"Total Private Average Hourly Earnings of Prod. and Nonsup. Employees\"\n",
        "}\n",
        "final_df['Series Name'] = final_df['seriesID'].map(series_mapping)\n",
        "\n",
        "#move the new column Series Name inbetween columns seriesID and Year\n",
        "cols = list(final_df.columns)\n",
        "seriesID_index = cols.index('seriesID')\n",
        "year_index = cols.index('year')\n",
        "cols.remove('Series Name')\n",
        "cols.insert(seriesID_index + 1, 'Series Name')\n",
        "final_df = final_df[cols]\n",
        "\n",
        "#write to csv\n",
        "final_df.to_csv('Data.csv', index=False)"
      ]
    }
  ]
}